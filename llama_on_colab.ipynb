{
  "nbformat": 4,
  "nbformat_minor": 0,
  "metadata": {
    "colab": {
      "provenance": []
    },
    "kernelspec": {
      "name": "python3",
      "display_name": "Python 3"
    },
    "language_info": {
      "name": "python"
    }
  },
  "cells": [
    {
      "cell_type": "code",
      "source": [
        "# recommand : place weight file on your drive and use cd. it's troublesome to upload your weight file when runtime is resetted.",
        "#%cd /content/drive/MyDrive/your_project_directory\n",
        "!git clone https://github.com/ggerganov/llama.cpp.git\n",
        "!(cd llama.cpp; make)\n",
        "!chmod 755 -R llama.cpp/"
      ],
      "metadata": {
        "id": "r8vRKlzOOuIh"
      },
      "execution_count": null,
      "outputs": []
    },
    {
      "cell_type": "code",
      "source": [
        "# place the weight file (example:ggml-alpaca-7b-q4.bin) on the directory"
      ],
      "metadata": {
        "id": "JRNQTe_mO-5c"
      },
      "execution_count": null,
      "outputs": []
    },
    {
      "cell_type": "code",
      "source": [
        "!llama.cpp/main -m  llama.cpp/models/Alpaca/ggml-alpaca-7b-q4.bin -n 128 -p \"Building a webs\""
      ],
      "metadata": {
        "id": "ZXo5O7NAPu_q"
      },
      "execution_count": null,
      "outputs": []
    },
    {
      "cell_type": "code",
      "execution_count": null,
      "metadata": {
        "id": "etHxf00MOY_K"
      },
      "outputs": [],
      "source": [
        "# if you need convert any model, execute this block.\n",
        "# |-example : llama_model_load: invalid model file './models/ggml-alpaca-7b-q4.bin' (too old, regenerate your model files!)\n",
        "\n",
        "# you can get convert.py at https://github.com/ggerganov/llama.cpp/issues/324#issuecomment-1476227818\n",
        "# download txt file and rename it.\n",
        "# you can get tokenizer.model if you read the link carefully.\n",
        "\n",
        "!pip install sentencepiece\n",
        "!python llama.cpp/models/convert.py llama.cpp/models/Alpaca llama.cpp/models/tokenizer.model"
      ]
    }
  ]
}
